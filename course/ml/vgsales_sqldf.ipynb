{
 "cells": [
  {
   "cell_type": "code",
   "execution_count": null,
   "metadata": {},
   "outputs": [],
   "source": [
    "import pandas as pd\n",
    "import sqldf\n",
    "\n",
    "df = pd.read_csv('./data/vgsales.csv')\n",
    "\n",
    "query_1 = \"\"\"\n",
    "SELECT *\n",
    "FROM df\n",
    "WHERE Platform = 'NES';\n",
    "\"\"\"\n",
    "\n",
    "df_1 = sqldf.run(query_1)\n",
    "df_1"
   ]
  },
  {
   "cell_type": "code",
   "execution_count": null,
   "metadata": {},
   "outputs": [],
   "source": [
    "query_2 = \"\"\"\n",
    "SELECT SUM(JP_Sales)\n",
    "FROM df;\n",
    "\"\"\"\n",
    "\n",
    "df_2 = sqldf.run(query_2)\n",
    "df_2"
   ]
  },
  {
   "cell_type": "code",
   "execution_count": null,
   "metadata": {},
   "outputs": [],
   "source": [
    "query_3 = \"\"\"\n",
    "SELECT COUNT(*)\n",
    "FROM df\n",
    "WHERE Year >= 2008;\n",
    "\"\"\"\n",
    "\n",
    "df_3 = sqldf.run(query_3)\n",
    "df_3"
   ]
  },
  {
   "cell_type": "code",
   "execution_count": 6,
   "metadata": {},
   "outputs": [
    {
     "name": "stdout",
     "output_type": "stream",
     "text": [
      "   COUNT(*)\n",
      "0   7.98289\n"
     ]
    }
   ],
   "source": [
    "query_4_1 = \"\"\"\n",
    "SELECT COUNT(*)\n",
    "FROM df\n",
    "WHERE Platform = 'Wii';\n",
    "\"\"\"\n",
    "\n",
    "query_4_2 = \"\"\"\n",
    "SELECT COUNT(*)\n",
    "FROM df;\n",
    "\"\"\"\n",
    "\n",
    "wii_games_count = sqldf.run(query_4_1)\n",
    "all_games_count = sqldf.run(query_4_2)\n",
    "\n",
    "print(round((wii_games_count / all_games_count) * 100, 2))"
   ]
  }
 ],
 "metadata": {
  "kernelspec": {
   "display_name": "course-venv",
   "language": "python",
   "name": "python3"
  },
  "language_info": {
   "codemirror_mode": {
    "name": "ipython",
    "version": 3
   },
   "file_extension": ".py",
   "mimetype": "text/x-python",
   "name": "python",
   "nbconvert_exporter": "python",
   "pygments_lexer": "ipython3",
   "version": "3.12.0"
  }
 },
 "nbformat": 4,
 "nbformat_minor": 2
}
